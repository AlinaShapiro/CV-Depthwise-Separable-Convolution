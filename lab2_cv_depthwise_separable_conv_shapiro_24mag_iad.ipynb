{
  "cells": [
    {
      "cell_type": "code",
      "execution_count": 1,
      "id": "hIlxdxPBA_xN",
      "metadata": {
        "colab": {
          "base_uri": "https://localhost:8080/"
        },
        "id": "hIlxdxPBA_xN",
        "outputId": "e9b6c1e1-9f8d-45e0-b47b-8fe62c1618b5"
      },
      "outputs": [
        {
          "name": "stdout",
          "output_type": "stream",
          "text": [
            "Collecting onnx\n",
            "  Downloading onnx-1.17.0-cp311-cp311-manylinux_2_17_x86_64.manylinux2014_x86_64.whl.metadata (16 kB)\n",
            "Requirement already satisfied: numpy>=1.20 in /usr/local/lib/python3.11/dist-packages (from onnx) (2.0.2)\n",
            "Requirement already satisfied: protobuf>=3.20.2 in /usr/local/lib/python3.11/dist-packages (from onnx) (5.29.4)\n",
            "Downloading onnx-1.17.0-cp311-cp311-manylinux_2_17_x86_64.manylinux2014_x86_64.whl (16.0 MB)\n",
            "\u001b[?25l   \u001b[90m━━━━━━━━━━━━━━━━━━━━━━━━━━━━━━━━━━━━━━━━\u001b[0m \u001b[32m0.0/16.0 MB\u001b[0m \u001b[31m?\u001b[0m eta \u001b[36m-:--:--\u001b[0m\r\u001b[2K   \u001b[91m━━\u001b[0m\u001b[91m╸\u001b[0m\u001b[90m━━━━━━━━━━━━━━━━━━━━━━━━━━━━━━━━━━━━━\u001b[0m \u001b[32m1.0/16.0 MB\u001b[0m \u001b[31m33.8 MB/s\u001b[0m eta \u001b[36m0:00:01\u001b[0m\r\u001b[2K   \u001b[91m━━━━━━━━━━━━━━━━\u001b[0m\u001b[91m╸\u001b[0m\u001b[90m━━━━━━━━━━━━━━━━━━━━━━━\u001b[0m \u001b[32m6.7/16.0 MB\u001b[0m \u001b[31m97.8 MB/s\u001b[0m eta \u001b[36m0:00:01\u001b[0m\r\u001b[2K   \u001b[91m━━━━━━━━━━━━━━━━━━━━━━━━━━━━━━━━━━\u001b[0m\u001b[90m╺\u001b[0m\u001b[90m━━━━━\u001b[0m \u001b[32m13.7/16.0 MB\u001b[0m \u001b[31m211.6 MB/s\u001b[0m eta \u001b[36m0:00:01\u001b[0m\r\u001b[2K   \u001b[91m━━━━━━━━━━━━━━━━━━━━━━━━━━━━━━━━━━━━━━━\u001b[0m\u001b[91m╸\u001b[0m \u001b[32m16.0/16.0 MB\u001b[0m \u001b[31m206.1 MB/s\u001b[0m eta \u001b[36m0:00:01\u001b[0m\r\u001b[2K   \u001b[90m━━━━━━━━━━━━━━━━━━━━━━━━━━━━━━━━━━━━━━━━\u001b[0m \u001b[32m16.0/16.0 MB\u001b[0m \u001b[31m113.5 MB/s\u001b[0m eta \u001b[36m0:00:00\u001b[0m\n",
            "\u001b[?25hInstalling collected packages: onnx\n",
            "Successfully installed onnx-1.17.0\n"
          ]
        }
      ],
      "source": [
        "!pip install onnx"
      ]
    },
    {
      "cell_type": "code",
      "execution_count": 42,
      "id": "e297e598",
      "metadata": {
        "id": "e297e598"
      },
      "outputs": [],
      "source": [
        "import cv2\n",
        "import torch\n",
        "from torch import nn, optim\n",
        "import torch.nn.functional as F\n",
        "from torchvision import datasets, transforms\n",
        "import numpy as np\n",
        "from time import time"
      ]
    },
    {
      "cell_type": "code",
      "execution_count": 41,
      "id": "a25c09a5",
      "metadata": {
        "colab": {
          "base_uri": "https://localhost:8080/"
        },
        "id": "a25c09a5",
        "outputId": "8d8a94e3-3fc5-432c-b54e-e15a4a466e87"
      },
      "outputs": [
        {
          "data": {
            "text/plain": [
              "<torch._C.Generator at 0x7ec11c551e90>"
            ]
          },
          "execution_count": 41,
          "metadata": {},
          "output_type": "execute_result"
        }
      ],
      "source": [
        "torch.manual_seed(0)"
      ]
    },
    {
      "cell_type": "code",
      "execution_count": 43,
      "id": "deuKLwBj_6C7",
      "metadata": {
        "colab": {
          "base_uri": "https://localhost:8080/"
        },
        "id": "deuKLwBj_6C7",
        "outputId": "0e661c99-75a5-467f-b0eb-0275bd28c77d"
      },
      "outputs": [
        {
          "name": "stdout",
          "output_type": "stream",
          "text": [
            "Using device: cuda\n"
          ]
        }
      ],
      "source": [
        "device = torch.device(\"cuda\" if torch.cuda.is_available() else \"cpu\")\n",
        "print(f\"Using device: {device}\")"
      ]
    },
    {
      "cell_type": "code",
      "execution_count": 44,
      "id": "b13917a0",
      "metadata": {
        "id": "b13917a0"
      },
      "outputs": [],
      "source": [
        "path = '/content/'"
      ]
    },
    {
      "cell_type": "code",
      "execution_count": 45,
      "id": "63373095",
      "metadata": {
        "id": "63373095"
      },
      "outputs": [],
      "source": [
        "transform = transforms.Compose([transforms.ToTensor(),\n",
        "                                transforms.Normalize((0.5,), (0.5,))])"
      ]
    },
    {
      "cell_type": "code",
      "execution_count": 46,
      "id": "d41cb9a8",
      "metadata": {
        "id": "d41cb9a8"
      },
      "outputs": [],
      "source": [
        "trainset = datasets.MNIST(path, download=True, train=True, transform=transform)\n",
        "testset = datasets.MNIST(path, download=True, train=False, transform=transform)"
      ]
    },
    {
      "cell_type": "code",
      "execution_count": 47,
      "id": "42dda773",
      "metadata": {
        "id": "42dda773"
      },
      "outputs": [],
      "source": [
        "trainloader = torch.utils.data.DataLoader(trainset, batch_size=64, shuffle=True)\n",
        "testloader = torch.utils.data.DataLoader(testset, batch_size=64, shuffle=True)"
      ]
    },
    {
      "cell_type": "markdown",
      "id": "oh-VT6hKSU2t",
      "metadata": {
        "id": "oh-VT6hKSU2t"
      },
      "source": [
        "In this implementation, it was decided to increase the number of filters in the convolutional layer compared to the lesson example. This is done to allow for more complex and diverse features to be extracted from the input data."
      ]
    },
    {
      "cell_type": "code",
      "execution_count": 158,
      "id": "3fc0fc00",
      "metadata": {
        "id": "3fc0fc00"
      },
      "outputs": [],
      "source": [
        "class ConvNet(nn.Module):\n",
        "    def __init__(self):\n",
        "        super(ConvNet, self).__init__()\n",
        "        self.conv1 = nn.Conv2d(1, 16, 5, padding=2)\n",
        "        self.pool = nn.MaxPool2d(2, 2)\n",
        "        self.conv2 = nn.Conv2d(16, 32, 3, padding=1)\n",
        "        self.fc1 = nn.Linear(32*7*7, 512)\n",
        "        self.fc2 = nn.Linear(512, 256)\n",
        "        self.fc3 = nn.Linear(256, 10)\n",
        "        self.dropout = nn.Dropout(0.25)\n",
        "\n",
        "    def forward(self, x):\n",
        "        x = F.relu(self.conv1(x))\n",
        "        x = self.pool(x)\n",
        "        x2 = F.relu(self.conv2(x))\n",
        "        # x = x + x2\n",
        "        x = self.pool(x2)\n",
        "        x = x.view(-1, 32* 7 * 7)\n",
        "        x = F.relu(self.fc1(x))\n",
        "        x = self.dropout(x)\n",
        "        x = F.relu(self.fc2(x))\n",
        "        x = self.dropout(x)\n",
        "        x = self.fc3(x)\n",
        "        return x"
      ]
    },
    {
      "cell_type": "code",
      "execution_count": 51,
      "id": "8d85298f",
      "metadata": {
        "colab": {
          "base_uri": "https://localhost:8080/"
        },
        "id": "8d85298f",
        "outputId": "2872db29-882e-4f3c-f14d-3b11b7dbd39a"
      },
      "outputs": [
        {
          "name": "stdout",
          "output_type": "stream",
          "text": [
            "[1,   100] loss: 1.252\n",
            "[1,   200] loss: 0.208\n",
            "[1,   300] loss: 0.162\n",
            "[1,   400] loss: 0.115\n",
            "[1,   500] loss: 0.108\n",
            "[1,   600] loss: 0.096\n",
            "[1,   700] loss: 0.080\n",
            "[1,   800] loss: 0.087\n",
            "[1,   900] loss: 0.087\n",
            "\n",
            "Training Time (in minutes) = 0.2247780442237854\n",
            "Accuracy: 98 %\n"
          ]
        }
      ],
      "source": [
        "convnet = ConvNet().to(device)\n",
        "criterion = nn.CrossEntropyLoss()\n",
        "optimizer = optim.SGD(convnet.parameters(), lr=0.03, momentum=0.9)\n",
        "\n",
        "time0 = time()\n",
        "epochs = 1\n",
        "\n",
        "for e in range(epochs):\n",
        "    running_loss = 0\n",
        "    for i, (images, labels) in enumerate(trainloader, 0):\n",
        "        optimizer.zero_grad()\n",
        "        images = images.to(device)\n",
        "        labels = labels.to(device)\n",
        "        res = convnet(images)\n",
        "        loss = criterion(res, labels)\n",
        "        loss.backward()\n",
        "        optimizer.step()\n",
        "\n",
        "        running_loss += loss.item()\n",
        "\n",
        "        dbg_samples = 100\n",
        "        if (i + 1) % dbg_samples == 0:\n",
        "            print('[%d, %5d] loss: %.3f' %\n",
        "                  (e+1, i+1, running_loss / dbg_samples))\n",
        "            running_loss = 0.0\n",
        "\n",
        "print(\"\\nTraining Time (in minutes) =\",(time()-time0)/60)\n",
        "\n",
        "correct = 0\n",
        "total = 0\n",
        "with torch.no_grad():\n",
        "    for data in testloader:\n",
        "        images, labels = data\n",
        "        images = images.to(device)\n",
        "        labels = labels.to(device)\n",
        "        outputs = convnet(images)\n",
        "        _, predicted = torch.max(outputs.data, 1)\n",
        "        total += labels.size(0)\n",
        "        correct += (predicted == labels).sum().item()\n",
        "\n",
        "print('Accuracy: %d %%' % (100 * correct / total))"
      ]
    },
    {
      "cell_type": "code",
      "execution_count": 52,
      "id": "bcEEOeqlA8mu",
      "metadata": {
        "id": "bcEEOeqlA8mu"
      },
      "outputs": [],
      "source": [
        "import onnx"
      ]
    },
    {
      "cell_type": "code",
      "execution_count": 56,
      "id": "74f44e5c",
      "metadata": {
        "id": "74f44e5c"
      },
      "outputs": [],
      "source": [
        "x = torch.randn(64, 1, 28,28).to(device)\n",
        "torch.onnx.export(convnet, x, path+'models/convnet.onnx')"
      ]
    },
    {
      "cell_type": "code",
      "execution_count": 57,
      "id": "be2ce4a6",
      "metadata": {
        "id": "be2ce4a6"
      },
      "outputs": [],
      "source": [
        "model=cv2.dnn.readNetFromONNX(path+'models/convnet.onnx')"
      ]
    },
    {
      "cell_type": "code",
      "execution_count": 58,
      "id": "bb39b427",
      "metadata": {
        "id": "bb39b427"
      },
      "outputs": [],
      "source": [
        "from matplotlib import pyplot as plt"
      ]
    },
    {
      "cell_type": "code",
      "execution_count": 59,
      "id": "457d3aa5",
      "metadata": {
        "id": "457d3aa5"
      },
      "outputs": [],
      "source": [
        "image = cv2.imread(path+'assets/0-9.png')"
      ]
    },
    {
      "cell_type": "code",
      "execution_count": 60,
      "id": "68a443f6",
      "metadata": {
        "id": "68a443f6"
      },
      "outputs": [],
      "source": [
        "img = cv2.cvtColor(image, cv2.COLOR_BGR2GRAY)\n",
        "ret, img = cv2.threshold(img,0,255,cv2.THRESH_BINARY_INV+cv2.THRESH_OTSU)\n",
        "contours, _ = cv2.findContours(img, cv2.RETR_EXTERNAL, cv2.CHAIN_APPROX_NONE)\n",
        "height, width = img.shape[:2]"
      ]
    },
    {
      "cell_type": "code",
      "execution_count": 61,
      "id": "5923634f",
      "metadata": {
        "id": "5923634f"
      },
      "outputs": [],
      "source": [
        "for c in contours:\n",
        "    x, y, w, h = cv2.boundingRect(c)\n",
        "    cv2.rectangle(image, (x, y), (x+w-1, y+h-1), (255,255,0),1)\n",
        "    sz2 = int(1.1*max(w,h)/2)\n",
        "    xc = x + int(w/2)\n",
        "    yc = y + int(h/2)\n",
        "    cv2.rectangle(image, (xc-sz2, yc-sz2), (xc+sz2, yc+sz2), (255,0,0),1)\n",
        "    img2 = img[max(0,yc-sz2):min(yc+sz2,height-1),max(0,xc-sz2):min(width-1,xc+sz2)]\n",
        "    img2 = cv2.resize(img2, (28, 28))\n",
        "    blob = cv2.dnn.blobFromImage(img2, 1./127, (28,28), (127,127,127), True)\n",
        "    model.setInput(blob)\n",
        "    outs = model.forward()\n",
        "    res = np.argmax(outs)\n",
        "\n",
        "    cv2.putText(image, str(res), (x-10, y+10),  cv2.FONT_HERSHEY_SIMPLEX,\n",
        "\t1.5, (50, 50, 255),1)"
      ]
    },
    {
      "cell_type": "code",
      "execution_count": 62,
      "id": "e23496b1",
      "metadata": {
        "colab": {
          "base_uri": "https://localhost:8080/",
          "height": 286
        },
        "id": "e23496b1",
        "outputId": "e05e69df-214e-4302-b05a-793fec2c86eb"
      },
      "outputs": [
        {
          "data": {
            "text/plain": [
              "<matplotlib.image.AxesImage at 0x7ec048028950>"
            ]
          },
          "execution_count": 62,
          "metadata": {},
          "output_type": "execute_result"
        },
        {
          "data": {
            "image/png": "[encoded data removed]",
            "text/plain": [
              "<Figure size 640x480 with 1 Axes>"
            ]
          },
          "metadata": {},
          "output_type": "display_data"
        }
      ],
      "source": [
        "plt.imshow(image, cmap=\"gray\")"
      ]
    },
    {
      "cell_type": "markdown",
      "id": "26d9ed3f",
      "metadata": {
        "id": "26d9ed3f"
      },
      "source": [
        "### Depthwise Separable convolutions"
      ]
    },
    {
      "cell_type": "markdown",
      "id": "f2a8452f",
      "metadata": {
        "id": "f2a8452f"
      },
      "source": [
        "A depthwise-separable convolution is the combination of both depthwise followed by a pointwise convolutions.\n",
        "* Depthwise Convolution is a type of convolution where we apply a single convolutional filter for each input channel\n",
        "* Pointwise Convolution is a type of convolution that uses a 1x1 kernel\n"
      ]
    },
    {
      "cell_type": "code",
      "execution_count": 63,
      "id": "3370c3b0",
      "metadata": {
        "id": "3370c3b0"
      },
      "outputs": [],
      "source": [
        "import torch.nn as nn\n",
        "import torch.nn.functional as F\n",
        "\n",
        "class DepthwiseSeparableConv(nn.Module):\n",
        "    def __init__(self, in_channels, out_channels, kernel_size=5,\n",
        "                  stride=1, padding=0,  dilation=1, bias=True):\n",
        "        super(DepthwiseSeparableConv, self).__init__()\n",
        "\n",
        "        self.depthwise = nn.Conv2d(in_channels=in_channels, out_channels=in_channels,\n",
        "                                   kernel_size=kernel_size, stride=stride,\n",
        "                                   padding=padding,  dilation=dilation,\n",
        "                                   groups=in_channels, bias=bias\n",
        "                                   )\n",
        "\n",
        "        self.pointwise = nn.Conv2d(in_channels=in_channels, out_channels=out_channels,\n",
        "                                   kernel_size=1,  #pointwise convolution\n",
        "                                   stride=1, padding=0,\n",
        "                                   dilation=1, groups=1, bias=bias\n",
        "                                   )\n",
        "    def forward(self, x):\n",
        "        x = self.depthwise(x)\n",
        "        # print(f\"After Depthwise:{x.shape}\")\n",
        "        x = self.pointwise(x)\n",
        "        # print(f\"After Pointwise:{x.shape}\")\n",
        "        return x"
      ]
    },
    {
      "cell_type": "code",
      "execution_count": 69,
      "id": "3641a9aa",
      "metadata": {
        "id": "3641a9aa"
      },
      "outputs": [],
      "source": [
        "class DeptConvNet(nn.Module):\n",
        "    def __init__(self):\n",
        "        super(DeptConvNet, self).__init__()\n",
        "        self.conv1 = DepthwiseSeparableConv(in_channels=1, out_channels=16,\n",
        "                                             kernel_size=5, padding=2)\n",
        "        self.pool = nn.MaxPool2d(2, 2)\n",
        "        self.conv2 = DepthwiseSeparableConv(in_channels=16, out_channels=32,\n",
        "                                            kernel_size=3, padding=1)\n",
        "        self.fc1 = nn.Linear(32 * 7 * 7, 256)\n",
        "        self.fc2 = nn.Linear(256, 128)\n",
        "        self.fc3 = nn.Linear(128, 10)\n",
        "        self.dropout = nn.Dropout(0.25)\n",
        "\n",
        "    def forward(self, x):\n",
        "        x = self.pool(F.relu(self.conv1(x)))\n",
        "        x = self.pool(F.relu(self.conv2(x)))\n",
        "        x = x.view(-1, 32 * 7 * 7)\n",
        "        x = F.relu(self.fc1(x))\n",
        "        x = self.dropout(x)\n",
        "        x = F.relu(self.fc2(x))\n",
        "        x = self.dropout(x)\n",
        "        x = self.fc3(x)\n",
        "        return x"
      ]
    },
    {
      "cell_type": "code",
      "execution_count": 71,
      "id": "af8425d4",
      "metadata": {
        "colab": {
          "base_uri": "https://localhost:8080/"
        },
        "id": "af8425d4",
        "outputId": "6cf0c016-3b5b-4b63-db7b-11952456b3b8"
      },
      "outputs": [
        {
          "name": "stdout",
          "output_type": "stream",
          "text": [
            "[1,   100] loss: 2.055\n",
            "[1,   200] loss: 0.506\n",
            "[1,   300] loss: 0.264\n",
            "[1,   400] loss: 0.220\n",
            "[1,   500] loss: 0.191\n",
            "[1,   600] loss: 0.157\n",
            "[1,   700] loss: 0.138\n",
            "[1,   800] loss: 0.146\n",
            "[1,   900] loss: 0.136\n",
            "\n",
            "Training Time (in minutes) = 0.22829102675120036\n",
            "Accuracy: 97 %\n"
          ]
        }
      ],
      "source": [
        "deptconvnet = DeptConvNet().to(device)\n",
        "criterion = nn.CrossEntropyLoss()\n",
        "optimizer = optim.SGD(deptconvnet.parameters(), lr=0.03, momentum=0.9)\n",
        "\n",
        "time0 = time()\n",
        "epochs = 1\n",
        "\n",
        "for e in range(epochs):\n",
        "    running_loss = 0\n",
        "    for i, (images, labels) in enumerate(trainloader, 0):\n",
        "        optimizer.zero_grad()\n",
        "        images = images.to(device)\n",
        "        labels = labels.to(device)\n",
        "        res = deptconvnet(images)\n",
        "        loss = criterion(res, labels)\n",
        "        loss.backward()\n",
        "        optimizer.step()\n",
        "\n",
        "        running_loss += loss.item()\n",
        "\n",
        "        dbg_samples = 100\n",
        "        if (i + 1) % dbg_samples == 0:\n",
        "            print('[%d, %5d] loss: %.3f' %\n",
        "                  (e+1, i+1, running_loss / dbg_samples))\n",
        "            running_loss = 0.0\n",
        "\n",
        "print(\"\\nTraining Time (in minutes) =\",(time()-time0)/60)\n",
        "\n",
        "correct = 0\n",
        "total = 0\n",
        "with torch.no_grad():\n",
        "    for data in testloader:\n",
        "        images, labels = data\n",
        "        images = images.to(device)\n",
        "        labels = labels.to(device)\n",
        "        outputs = deptconvnet(images)\n",
        "        _, predicted = torch.max(outputs.data, 1)\n",
        "        total += labels.size(0)\n",
        "        correct += (predicted == labels).sum().item()\n",
        "\n",
        "print('Accuracy: %d %%' % (100 * correct / total))"
      ]
    },
    {
      "cell_type": "markdown",
      "id": "8-n6mIolHBFp",
      "metadata": {
        "id": "8-n6mIolHBFp"
      },
      "source": [
        "| Conv Type | Time (min) |Accuracy  |\n",
        "|  :---: |  :---: |  :---: |\n",
        "| Vanilla Convolusion | 0.2248 | 98% |\n",
        "| Depthwise Separable | 0.2283 | 97% |\n",
        "\n",
        "The computational speed for one epoch is nearly identical between the two convolution types. This is unexpected, as Depthwise Separable convolutions are generally expected to be faster than Vanilla Convolutions."
      ]
    },
    {
      "cell_type": "markdown",
      "id": "L1KjLmpTWG0p",
      "metadata": {
        "id": "L1KjLmpTWG0p"
      },
      "source": [
        "### Data Augmentation"
      ]
    },
    {
      "cell_type": "markdown",
      "id": "2SVSPjZVYNj8",
      "metadata": {
        "id": "2SVSPjZVYNj8"
      },
      "source": [
        "The transformation composition applied to the training images includs random rotations up to 10 degrees, random adjustments to brightness, contrast, saturation, and hue using ColorJitter."
      ]
    },
    {
      "cell_type": "code",
      "execution_count": null,
      "id": "cdc3aab0",
      "metadata": {
        "id": "cdc3aab0"
      },
      "outputs": [],
      "source": [
        "transform_train = transforms.Compose([\n",
        "    transforms.RandomRotation(degrees=10),\n",
        "    transforms.ColorJitter(brightness=0.2, contrast=0.2, saturation=0.2, hue=0.1),\n",
        "    transforms.ToTensor(),\n",
        "    transforms.Normalize((0.5,), (0.5,))\n",
        "])"
      ]
    },
    {
      "cell_type": "code",
      "execution_count": 106,
      "id": "91b73bb5",
      "metadata": {
        "id": "91b73bb5"
      },
      "outputs": [],
      "source": [
        "transform_test = transforms.Compose([\n",
        "    transforms.ToTensor(),\n",
        "    transforms.Normalize((0.5,), (0.5,))\n",
        "])"
      ]
    },
    {
      "cell_type": "code",
      "execution_count": 107,
      "id": "irMgLlt_IP-q",
      "metadata": {
        "id": "irMgLlt_IP-q"
      },
      "outputs": [],
      "source": [
        "trainset = datasets.MNIST(path, download=True, train=True, transform=transform_train)\n",
        "testset = datasets.MNIST(path, download=True, train=False, transform=transform_test)"
      ]
    },
    {
      "cell_type": "code",
      "execution_count": 108,
      "id": "4df8ec2e",
      "metadata": {
        "id": "4df8ec2e"
      },
      "outputs": [],
      "source": [
        "trainloader = torch.utils.data.DataLoader(trainset, batch_size=64, shuffle=True)\n",
        "testloader = torch.utils.data.DataLoader(testset, batch_size=64, shuffle=False)"
      ]
    },
    {
      "cell_type": "code",
      "execution_count": 109,
      "id": "7bd2983d",
      "metadata": {
        "colab": {
          "base_uri": "https://localhost:8080/"
        },
        "id": "7bd2983d",
        "outputId": "0cd9ff12-92e5-4910-da4a-1f2c9f594615"
      },
      "outputs": [
        {
          "name": "stdout",
          "output_type": "stream",
          "text": [
            "[1,   100] loss: 1.339\n",
            "[1,   200] loss: 0.247\n",
            "[1,   300] loss: 0.153\n",
            "[1,   400] loss: 0.158\n",
            "[1,   500] loss: 0.133\n",
            "[1,   600] loss: 0.105\n",
            "[1,   700] loss: 0.093\n",
            "[1,   800] loss: 0.090\n",
            "[1,   900] loss: 0.094\n",
            "\n",
            "Training Time (in minutes) = 0.6058696587880452\n",
            "Accuracy: 98 %\n"
          ]
        }
      ],
      "source": [
        "convnet = ConvNet().to(device)\n",
        "criterion = nn.CrossEntropyLoss()\n",
        "optimizer = optim.SGD(convnet.parameters(), lr=0.03, momentum=0.9)\n",
        "\n",
        "time0 = time()\n",
        "epochs = 1\n",
        "\n",
        "for e in range(epochs):\n",
        "    running_loss = 0\n",
        "    for i, (images, labels) in enumerate(trainloader, 0):\n",
        "        optimizer.zero_grad()\n",
        "        images = images.to(device)\n",
        "        labels = labels.to(device)\n",
        "        res = convnet(images)\n",
        "        loss = criterion(res, labels)\n",
        "        loss.backward()\n",
        "        optimizer.step()\n",
        "\n",
        "        running_loss += loss.item()\n",
        "\n",
        "        dbg_samples = 100\n",
        "        if (i + 1) % dbg_samples == 0:\n",
        "            print('[%d, %5d] loss: %.3f' %\n",
        "                  (e+1, i+1, running_loss / dbg_samples))\n",
        "            running_loss = 0.0\n",
        "\n",
        "print(\"\\nTraining Time (in minutes) =\",(time()-time0)/60)\n",
        "\n",
        "correct = 0\n",
        "total = 0\n",
        "with torch.no_grad():\n",
        "    for data in testloader:\n",
        "        images, labels = data\n",
        "        images = images.to(device)\n",
        "        labels = labels.to(device)\n",
        "        outputs = convnet(images)\n",
        "        _, predicted = torch.max(outputs.data, 1)\n",
        "        total += labels.size(0)\n",
        "        correct += (predicted == labels).sum().item()\n",
        "\n",
        "print('Accuracy: %d %%' % (100 * correct / total))"
      ]
    },
    {
      "cell_type": "code",
      "execution_count": 113,
      "id": "e4e00af7",
      "metadata": {
        "colab": {
          "base_uri": "https://localhost:8080/"
        },
        "id": "e4e00af7",
        "outputId": "691b831f-3717-49e3-954a-bde04302c27b"
      },
      "outputs": [
        {
          "name": "stdout",
          "output_type": "stream",
          "text": [
            "[1,   100] loss: 2.294\n",
            "[1,   200] loss: 1.079\n",
            "[1,   300] loss: 0.451\n",
            "[1,   400] loss: 0.314\n",
            "[1,   500] loss: 0.275\n",
            "[1,   600] loss: 0.226\n",
            "[1,   700] loss: 0.205\n",
            "[1,   800] loss: 0.178\n",
            "[1,   900] loss: 0.156\n",
            "\n",
            "Training Time (in minutes) = 0.5678592642148336\n",
            "Accuracy: 96 %\n"
          ]
        }
      ],
      "source": [
        "deptconvnet =  DeptConvNet().to(device)\n",
        "criterion = nn.CrossEntropyLoss()\n",
        "optimizer = optim.SGD(deptconvnet.parameters(), lr=0.03, momentum=0.9)\n",
        "\n",
        "time0 = time()\n",
        "epochs = 1\n",
        "\n",
        "for e in range(epochs):\n",
        "    running_loss = 0\n",
        "    for i, (images, labels) in enumerate(trainloader, 0):\n",
        "        optimizer.zero_grad()\n",
        "        images = images.to(device)\n",
        "        labels = labels.to(device)\n",
        "        res = deptconvnet(images)\n",
        "        loss = criterion(res, labels)\n",
        "        loss.backward()\n",
        "        optimizer.step()\n",
        "\n",
        "        running_loss += loss.item()\n",
        "\n",
        "        dbg_samples = 100\n",
        "        if (i + 1) % dbg_samples == 0:\n",
        "            print('[%d, %5d] loss: %.3f' %\n",
        "                  (e+1, i+1, running_loss / dbg_samples))\n",
        "            running_loss = 0.0\n",
        "\n",
        "print(\"\\nTraining Time (in minutes) =\",(time()-time0)/60)\n",
        "\n",
        "correct = 0\n",
        "total = 0\n",
        "with torch.no_grad():\n",
        "    for data in testloader:\n",
        "        images, labels = data\n",
        "        images = images.to(device)\n",
        "        labels = labels.to(device)\n",
        "        outputs = deptconvnet(images)\n",
        "        _, predicted = torch.max(outputs.data, 1)\n",
        "        total += labels.size(0)\n",
        "        correct += (predicted == labels).sum().item()\n",
        "\n",
        "print('Accuracy: %d %%' % (100 * correct / total))"
      ]
    },
    {
      "cell_type": "markdown",
      "id": "jPykN_b9Y0fk",
      "metadata": {
        "id": "jPykN_b9Y0fk"
      },
      "source": [
        "**Before Data Augmentation**\n",
        "\n",
        "| Conv Type | Time (min) |Accuracy  |\n",
        "|  :---: |  :---: |  :---: |\n",
        "| Vanilla Convolusion | 0.2248 | 98% |\n",
        "| Depthwise Separable | 0.2283 | 97% |\n",
        "\n",
        "**After Data Augmentation**\n",
        "\n",
        "| Conv Type | Time (min) |Accuracy  |\n",
        "|  :---: |  :---: |  :---: |\n",
        "| Vanilla Convolusion | 0.6058 | 98% |\n",
        "| Depthwise Separable | 0.5678 | 96% |\n",
        "\n",
        "The accuracy of Vanilla Convolution remains very high and stable (98%)  and data augmentation does not effect that much. Accuracy with Depthwise Separable slightly decreased (96%) and maybe this type of convolution is more sensitive to data changes introduced by augmentation and it needs more epochs to adapt to these changes.\n",
        "\n",
        "Moreover, in this example we can see that Depthwise Separable Convolution is faster than Vanilla one.\n"
      ]
    }
  ],
  "metadata": {
    "accelerator": "GPU",
    "colab": {
      "gpuType": "T4",
      "provenance": []
    },
    "kernelspec": {
      "display_name": "Python 3",
      "name": "python3"
    },
    "language_info": {
      "codemirror_mode": {
        "name": "ipython",
        "version": 3
      },
      "file_extension": ".py",
      "mimetype": "text/x-python",
      "name": "python",
      "nbconvert_exporter": "python",
      "pygments_lexer": "ipython3",
      "version": "3.10.16"
    }
  },
  "nbformat": 4,
  "nbformat_minor": 5
}
